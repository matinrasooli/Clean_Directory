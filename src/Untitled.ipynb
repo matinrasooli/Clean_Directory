{
 "cells": [
  {
   "cell_type": "code",
   "execution_count": 9,
   "id": "91067058-3b7a-48eb-a289-e41995aa2817",
   "metadata": {},
   "outputs": [],
   "source": [
    "from pathlib import Path\n",
    "from collections import Counter\n",
    "import shutil"
   ]
  },
  {
   "cell_type": "code",
   "execution_count": 10,
   "id": "281076db-fa50-45ac-ace0-738386dbae33",
   "metadata": {},
   "outputs": [],
   "source": [
    "DIR_PATH = Path('/mnt/c/Users/Mat/Documents')"
   ]
  },
  {
   "cell_type": "code",
   "execution_count": 11,
   "id": "3afdd11a-2e82-41dc-80b4-975e40e7e674",
   "metadata": {},
   "outputs": [],
   "source": [
    "file_type_dest = {\n",
    "    '.png': 'image',\n",
    "    '.mp3': 'music',\n",
    "    '.pdf': 'document',\n",
    "    '.txt': 'document',\n",
    "    '.jpg': 'image',\n",
    "    '.json': 'data',\n",
    "    '.mp4': 'movie',\n",
    "    '.enc': 'data',\n",
    "    '.ogg': 'data',\n",
    "    '.exe': 'data',\n",
    "    '.jpeg': 'image',\n",
    "    '.ini': 'data',\n",
    "    '.JPG': 'image'\n",
    "}"
   ]
  },
  {
   "cell_type": "code",
   "execution_count": 12,
   "id": "5b5064fb-f5d0-4ada-b3cf-998d63cf4dec",
   "metadata": {},
   "outputs": [
    {
     "data": {
      "text/plain": [
       "pathlib.PosixPath"
      ]
     },
     "execution_count": 12,
     "metadata": {},
     "output_type": "execute_result"
    }
   ],
   "source": [
    "type(DIR_PATH)"
   ]
  },
  {
   "cell_type": "code",
   "execution_count": 14,
   "id": "76286004-a622-4839-8e7d-9381ff9eeb46",
   "metadata": {
    "scrolled": true,
    "tags": []
   },
   "outputs": [
    {
     "name": "stdout",
     "output_type": "stream",
     "text": [
      ".zip       /mnt/c/Users/Mat/Documents/others\n",
      ".tgz       /mnt/c/Users/Mat/Documents/others\n",
      ".zip       /mnt/c/Users/Mat/Documents/others\n",
      ".xlsx      /mnt/c/Users/Mat/Documents/others\n",
      ".pptx      /mnt/c/Users/Mat/Documents/others\n",
      ".pptx      /mnt/c/Users/Mat/Documents/others\n",
      ".pptx      /mnt/c/Users/Mat/Documents/others\n",
      ".pptx      /mnt/c/Users/Mat/Documents/others\n",
      ".pptx      /mnt/c/Users/Mat/Documents/others\n",
      ".xlsx      /mnt/c/Users/Mat/Documents/others\n"
     ]
    }
   ],
   "source": [
    "file_extensions = []\n",
    "for file_path in DIR_PATH.iterdir():\n",
    "    \n",
    "    #ignore directories\n",
    "    if file_path.is_dir():\n",
    "        continue\n",
    "        \n",
    "    #ignore hidden files\n",
    "    if file_path.name.startswith('.'):\n",
    "        continue\n",
    "    \n",
    "    #get all file types\n",
    "    file_extensions.append(file_path.suffix)\n",
    "    \n",
    "    #move files\n",
    "    if file_path.suffix not in file_type_dest:\n",
    "        DEST_DIR = DIR_PATH / 'others'\n",
    "    else:\n",
    "        DEST_DIR = DIR_PATH / file_type_dest[file_path.suffix]\n",
    "    \n",
    "    DEST_DIR.mkdir(exist_ok=True)\n",
    "\n",
    "    # if not DEST_DIR.sexists():\n",
    "    #     DEST_DIR.mkdir()\n",
    "\n",
    "    print(f'{file_path.suffix:10} {DEST_DIR}')\n",
    "    shutil.move(str(file_path), str(DEST_DIR))\n",
    "    "
   ]
  },
  {
   "cell_type": "code",
   "execution_count": 48,
   "id": "7ff10148-15ed-4c5c-8b0a-b0600b80720f",
   "metadata": {},
   "outputs": [
    {
     "data": {
      "text/plain": [
       "'/mnt/c/Users/Mat/Documents/image/پرفروش-ترین-محصولات-فروشگاه-آنلاین-3.jpg'"
      ]
     },
     "execution_count": 48,
     "metadata": {},
     "output_type": "execute_result"
    }
   ],
   "source": []
  },
  {
   "cell_type": "code",
   "execution_count": 8,
   "id": "aedbddac-2e65-4336-9280-2078d0ec21d0",
   "metadata": {},
   "outputs": [
    {
     "data": {
      "text/plain": [
       "[('.mp3', 6), ('.rdp', 1), ('.ini', 1)]"
      ]
     },
     "execution_count": 8,
     "metadata": {},
     "output_type": "execute_result"
    }
   ],
   "source": [
    "\n",
    "Counter(file_extensions).most_common()"
   ]
  },
  {
   "cell_type": "code",
   "execution_count": null,
   "id": "98cfbccb-c8ce-4b1c-ba25-a85a03270039",
   "metadata": {},
   "outputs": [],
   "source": []
  }
 ],
 "metadata": {
  "kernelspec": {
   "display_name": "Python 3 (ipykernel)",
   "language": "python",
   "name": "python3"
  },
  "language_info": {
   "codemirror_mode": {
    "name": "ipython",
    "version": 3
   },
   "file_extension": ".py",
   "mimetype": "text/x-python",
   "name": "python",
   "nbconvert_exporter": "python",
   "pygments_lexer": "ipython3",
   "version": "3.8.16"
  }
 },
 "nbformat": 4,
 "nbformat_minor": 5
}
